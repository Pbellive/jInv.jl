{
 "cells": [
  {
   "cell_type": "markdown",
   "metadata": {},
   "source": [
    "# Example:  Joint Eikonal and DC Resistivity Inversion\n",
    "\n",
    "This example demonstrates how to use `jInv` for multiphysics inversions. Here, we jointly invert 3D travel time and DC resitivity data. Our example geophysical imaging technique. \n",
    "\n",
    "Our goal is to solve the inverse problem\n",
    "\n",
    "\\begin{equation*}\n",
    "\t\t\\min_{m} \\sum_{j=1}^{n^{\\rm Eik}} \\| P^{\\rm Eik}_j u^{\\rm Eik}_j(m) - d^{\\rm Eik}_{j}\\|^2 + \\sum_{j=1}^{n^{\\rm DC}} \\| P^{\\rm DC}_j u^{\\rm DC}_j(m) - d^{\\rm DC}_{j}\\|^2 + \\alpha \\| L m\\|^2 \n",
    "        \\quad \\text{ subject to} \\quad m_L \\leq m \\leq x_H\n",
    "\\end{equation*}\n",
    "\n",
    "where \n",
    "\n",
    "* $m$ - is the model\n",
    "* $u_j^{\\rm Eik}$ - is the travel time for the $j$th source\n",
    "* $d_{j}^{\\rm Eik}$ - is the measured data for the $j$th source\n",
    "* $P_j^{\\rm Eik}$ - are the receiver matrices for the travel time\n",
    "* $u_j^{\\rm DC}$ - is the electric potential for the $j$th source\n",
    "* $d_{j}^{\\rm DC}$ - is the measured resistivity data for the $j$th source\n",
    "* $P_j^{\\rm DC}$ - are the receiver matrices for the DC resistivity data\n",
    "* $\\alpha>0$ and $L$ is the regularization parameter and operator, respectively\n",
    "* $m_L,m_H$ are lower and uppter bounds on the model\n",
    "\n",
    "## References\n",
    "This experiment combines the data inverted in the notebooks [`exDCResistivity.ipynb`](https://github.com/JuliaInv/jInv.jl/blob/master/examples/exDCResistivity.ipynb) and [`exEikonal.ipynb`](https://github.com/JuliaInv/jInv.jl/blob/master/examples/exEikonal.ipynb) and is also described in [1]. You may compare the results of this joint inversion to the results in the other two examples. The fast marching method used to solve the Eikonal equation is presented in [2]. The test data here is generated using jInv and based on the 3D SEG/EAGE model of a salt reservoir described in [3]. Thus, please see and reference the following papers when using this example:\n",
    "\n",
    "[1]  Ruthotto L, Treister E, Haber E: [jInv - a flexible Julia package for PDE parameter estimation](http://arxiv.org/abs/1606.07399), arXiv:1606.0739 [cs.MS] 2016\n",
    "\n",
    "[2] Treister E, Haber E: [A fast marching algorithm for the factored eikonal equation](http://dx.doi.org/10.1016/j.jcp.2016.08.012), Journal of Computational Physics, 324(1), p. 210–225, 2016\n",
    "\n",
    "[3] F. Aminzadeh, B. Jean, and T. Kunz. 3-D salt and overthrust models. Society of Exploration Geophysicists, 1997.\n",
    "\n",
    "\n",
    "## Add parallel workers\n",
    "\n",
    "The forward problems in our Eikonal package are solved using a fast marching method. This by itself is difficult to parallelize, however, as common in practice we have multiple measurements that need to be simulated. Our package automatically uses this potential for parallelization and uses all available workers. \n",
    "\n",
    "So, before you start this experiment we recommend you add workers. Here, we just use local workers, but you may also use MPI or SSH to connect to remote workers. The parallelism in `jInv` is designed to be communication efficient. "
   ]
  },
  {
   "cell_type": "code",
   "execution_count": 1,
   "metadata": {
    "collapsed": false
   },
   "outputs": [
    {
     "data": {
      "text/plain": [
       "8-element Array{Int64,1}:\n",
       " 2\n",
       " 3\n",
       " 4\n",
       " 5\n",
       " 6\n",
       " 7\n",
       " 8\n",
       " 9"
      ]
     },
     "execution_count": 1,
     "metadata": {},
     "output_type": "execute_result"
    }
   ],
   "source": [
    "addprocs(8)"
   ]
  },
  {
   "cell_type": "code",
   "execution_count": 2,
   "metadata": {
    "collapsed": false
   },
   "outputs": [
    {
     "name": "stderr",
     "output_type": "stream",
     "text": [
      "\u001b[1m\u001b[34mINFO: Recompiling stale cache file /home/patrick/.julia/lib/v0.5/MAT.ji for module MAT.\n",
      "\u001b[0m/usr/lib/python2.7/dist-packages/matplotlib/font_manager.py:273: UserWarning: Matplotlib is building the font cache using fc-list. This may take a moment.\n",
      "  warnings.warn('Matplotlib is building the font cache using fc-list. This may take a moment.')\n",
      "/usr/lib/python2.7/dist-packages/matplotlib/font_manager.py:273: UserWarning: Matplotlib is building the font cache using fc-list. This may take a moment.\n",
      "  warnings.warn('Matplotlib is building the font cache using fc-list. This may take a moment.')\n",
      "/usr/lib/python2.7/dist-packages/matplotlib/font_manager.py:273: UserWarning: Matplotlib is building the font cache using fc-list. This may take a moment.\n",
      "  warnings.warn('Matplotlib is building the font cache using fc-list. This may take a moment.')\n",
      "/usr/lib/python2.7/dist-packages/matplotlib/font_manager.py:273: UserWarning: Matplotlib is building the font cache using fc-list. This may take a moment.\n",
      "  warnings.warn('Matplotlib is building the font cache using fc-list. This may take a moment.')\n",
      "/usr/lib/python2.7/dist-packages/matplotlib/font_manager.py:273: UserWarning: Matplotlib is building the font cache using fc-list. This may take a moment.\n",
      "  warnings.warn('Matplotlib is building the font cache using fc-list. This may take a moment.')\n",
      "/usr/lib/python2.7/dist-packages/matplotlib/font_manager.py:273: UserWarning: Matplotlib is building the font cache using fc-list. This may take a moment.\n",
      "  warnings.warn('Matplotlib is building the font cache using fc-list. This may take a moment.')\n",
      "/usr/lib/python2.7/dist-packages/matplotlib/font_manager.py:273: UserWarning: Matplotlib is building the font cache using fc-list. This may take a moment.\n",
      "  warnings.warn('Matplotlib is building the font cache using fc-list. This may take a moment.')\n",
      "/usr/lib/python2.7/dist-packages/matplotlib/font_manager.py:273: UserWarning: Matplotlib is building the font cache using fc-list. This may take a moment.\n",
      "  warnings.warn('Matplotlib is building the font cache using fc-list. This may take a moment.')\n",
      "/usr/lib/python2.7/dist-packages/matplotlib/font_manager.py:273: UserWarning: Matplotlib is building the font cache using fc-list. This may take a moment.\n",
      "  warnings.warn('Matplotlib is building the font cache using fc-list. This may take a moment.')\n"
     ]
    }
   ],
   "source": [
    "using MAT\n",
    "using PyPlot\n",
    "using EikonalInv\n",
    "using DivSigGrad\n",
    "using jInv.InverseSolve\n",
    "using jInv.Mesh\n",
    "using jInv.ForwardShare\n",
    "using jInv.Utils\n",
    "using jInvVis\n",
    "using jInv.LinearSolvers\n",
    "using MUMPS"
   ]
  },
  {
   "cell_type": "markdown",
   "metadata": {},
   "source": [
    "## Load Data\n",
    "\n",
    "Data can be found in the files `exEikonal.mat` and `exDCResistivity.mat`.\n"
   ]
  },
  {
   "cell_type": "code",
   "execution_count": 3,
   "metadata": {
    "collapsed": false
   },
   "outputs": [],
   "source": [
    "matfile      = matread(\"exEikonal.mat\")\n",
    "ReceiversEik = matfile[\"Receivers\"] # sparse matrix with discrete Eikonal receivers\n",
    "SourcesEik   = matfile[\"Sources\"] # sparse matrix with discrete Eikonal sources\n",
    "dobsEik      = matfile[\"dobs\"]    # observations simulated with true model\n",
    "dobs0Eik     = matfile[\"dobs0\"]   # observations simulated for reference model\n",
    "slowref      = matfile[\"slowref\"] # reference slowness, serves as starting guess\n",
    "\n",
    "n            = matfile[\"n\"]       # size of mesh used for the model\n",
    "domain       = matfile[\"domain\"]  # domain size\n",
    "mref         = matfile[\"mref\"];   # reference model\n",
    "WdEik        = matfile[\"Wd\"];     # weighting matrix for misfit;\n",
    "\n",
    "matfile   = matread(\"exDCResistivity.mat\")\n",
    "ReceiversDC = matfile[\"Receivers\"] # sparse matrix with discrete DC Receivers\n",
    "SourcesDC   = matfile[\"Sources\"]  # sparse matrix with discrete DC sources\n",
    "dobsDC      = matfile[\"dobs\"]     # observations simulated with true model\n",
    "dobs0DC     = matfile[\"dobs0\"]    # observations simulated for reference model\n",
    "nfwd      = matfile[\"nfwd\"]       # size of mesh used to solve PDEs\n",
    "sigref    = matfile[\"sigref\"];    # reference guess for conductivity;"
   ]
  },
  {
   "cell_type": "markdown",
   "metadata": {},
   "source": [
    "## Setup Meshes\n",
    "\n",
    "In this block we set up three different meshes used in the inversion.\n",
    "\n",
    "In our Eikonal forward solver, the travel time and slowness are discretized on a nodal grid. This is in contrast to other jInv modules. To make this seamless, we use a shifted grid.\n",
    "\n",
    "To accelerate the DC Resistivity simulations we use mesh decoupling and solve the forward problem on a coarser mesh."
   ]
  },
  {
   "cell_type": "code",
   "execution_count": 4,
   "metadata": {
    "collapsed": false
   },
   "outputs": [],
   "source": [
    "h           = (domain[2:2:end]-domain[1:2:end])./n\n",
    "domainNodal = copy(domain); domainNodal[1:2:end] += h./2; domainNodal[2:2:end] -= h./2\n",
    "Meik        = getRegularMesh(domainNodal,n-1) \n",
    "\n",
    "Minv        = getRegularMesh(domain,n);\n",
    "Mdc         = getRegularMesh(domain,nfwd);\n",
    "Mesh2Mesh   = getInterpolationMatrix(Minv,Mdc)';\n"
   ]
  },
  {
   "cell_type": "markdown",
   "metadata": {},
   "source": [
    "## Selecting the Active Set\n",
    "\n",
    "Sometimes we want to include some voxels from the inversion (for example, close to the boundary / sources / receivers). This can be done by the matrix `Iact` by deleting some columns from a sparse identity matrix. If we do that, the size of the model gets smaller and so we need to update the reference model as well."
   ]
  },
  {
   "cell_type": "code",
   "execution_count": 5,
   "metadata": {
    "collapsed": false
   },
   "outputs": [],
   "source": [
    "Iact     = speye(Bool,prod(n))\n",
    "mref     = Iact'*mref[:]\n",
    "mback    = mref - Iact*(Iact'*mref);\n",
    "slowback = slowref - Iact*(Iact'*slowref);\n",
    "sigback  = vec(sigref - Iact*(Iact'*sigref));\n"
   ]
  },
  {
   "cell_type": "markdown",
   "metadata": {},
   "source": [
    "## Setup Misfit Param\n",
    "\n",
    "Next, we set up the misfit param for our joint inversion. We should remember three things:\n",
    "\n",
    "1. The Eikonal forward problems will be spawned out to the first $n_w -1 $ workers. We will therefore also split up that data. Our job is to make sure that the right data ends up in the right misfit param. We do that by using the values in `SourcesSubInd`\n",
    "1. The DC Resistivity problem and data will be assigned to the last worker\n",
    "1. Since the functions from model to velocity and model to conductivity are different, we have to provide model functions to the misfit params\n",
    "\n",
    "### Setup MisfitParams for Eikonal Problems"
   ]
  },
  {
   "cell_type": "code",
   "execution_count": 6,
   "metadata": {
    "collapsed": false
   },
   "outputs": [
    {
     "data": {
      "text/plain": [
       "7-element Array{RemoteChannel,1}:\n",
       " RemoteChannel{Channel{jInv.InverseSolve.MisfitParam}}(2,1,151)\n",
       " RemoteChannel{Channel{jInv.InverseSolve.MisfitParam}}(3,1,149)\n",
       " RemoteChannel{Channel{jInv.InverseSolve.MisfitParam}}(4,1,155)\n",
       " RemoteChannel{Channel{jInv.InverseSolve.MisfitParam}}(5,1,143)\n",
       " RemoteChannel{Channel{jInv.InverseSolve.MisfitParam}}(6,1,145)\n",
       " RemoteChannel{Channel{jInv.InverseSolve.MisfitParam}}(7,1,153)\n",
       " RemoteChannel{Channel{jInv.InverseSolve.MisfitParam}}(8,1,147)"
      ]
     },
     "execution_count": 6,
     "metadata": {},
     "output_type": "execute_result"
    }
   ],
   "source": [
    "pForEik,contDiv,SourcesSubInd = getEikonalInvParam(Meik,SourcesEik,ReceiversEik,false,nworkers()-1)\n",
    "# split up observed data and misfit weightings\n",
    "WD   = Array(Array{Float64},length(pForEik));\n",
    "DOBS = Array(Array{Float64},length(pForEik));\n",
    "for k=1:length(pForEik)\n",
    "\tIk      = SourcesSubInd[k];\n",
    "    WD[k]   = WdEik[:,Ik];\n",
    "    DOBS[k] = dobsEik[:,Ik];\n",
    "end\n",
    "modfunEik   = velocityToSlowSquared;\n",
    "pMisEik     = getMisfitParam(pForEik,WD,DOBS,SSDFun,Iact,slowback,ones(length(pForEik)),modfunEik)"
   ]
  },
  {
   "cell_type": "markdown",
   "metadata": {},
   "source": [
    "### Setup MisfitParam for DivSigGrad problem\n",
    "\n",
    "Here, the forward problem mesh is relatively coarse. We will therefore use MUMPS as a direct solver. Since we have access to the factorized PDE, it will be benefitial to put all sources into a single forward problem. We'll use the last worker."
   ]
  },
  {
   "cell_type": "code",
   "execution_count": 16,
   "metadata": {
    "collapsed": false
   },
   "outputs": [
    {
     "name": "stderr",
     "output_type": "stream",
     "text": [
      "WARNING: Method definition velToConductMod(Any, Any, Any, Any) in module Main at In[10]:8 overwritten at In[16]:8.\n",
      "WARNING: Method definition modfunDC(Any) in module Main at In[10]:17 overwritten at In[16]:17.\n",
      "WARNING: Method definition velToConductMod(Any, Any, Any, Any) in module Main at In[10]:8 overwritten at In[16]:8.\n",
      "WARNING: Method definition modfunDC(Any) in module Main at In[10]:17 overwritten at In[16]:17.\n",
      "WARNING: Method definition velToConductMod(Any, Any, Any, Any) in module Main at In[10]:8 overwritten at In[16]:8.\n",
      "WARNING: Method definition modfunDC(Any) in module Main at In[10]:17 overwritten at In[16]:17.\n",
      "WARNING: Method definition velToConductMod(Any, Any, Any, Any) in module Main at In[10]:8 overwritten at In[16]:8.\n",
      "WARNING: Method definition modfunDC(Any) in module Main at In[10]:17 overwritten at In[16]:17.\n",
      "WARNING: Method definition velToConductMod(Any, Any, Any, Any) in module Main at In[10]:8 overwritten at In[16]:8.\n",
      "WARNING: Method definition modfunDC(Any) in module Main at In[10]:17 overwritten at In[16]:17.\n",
      "WARNING: Method definition velToConductMod(Any, Any, Any, Any) in module Main at In[10]:8 overwritten at In[16]:8.\n",
      "WARNING: Method definition modfunDC(Any) in module Main at In[10]:17 overwritten at In[16]:17.\n",
      "WARNING: Method definition velToConductMod(Any, Any, Any, Any) in module Main at In[10]:8 overwritten at In[16]:8.\n",
      "WARNING: Method definition modfunDC(Any) in module Main at In[10]:17 overwritten at In[16]:17.\n",
      "WARNING: Method definition velToConductMod(Any, Any, Any, Any) in module Main at In[10]:8 overwritten at In[16]:8.\n",
      "WARNING: Method definition modfunDC(Any) in module Main at In[10]:17 overwritten at In[16]:17.\n",
      "WARNING: Method definition velToConductMod(Any, Any, Any, Any) in module Main at In[10]:8 overwritten at In[16]:8.\n",
      "WARNING: Method definition modfunDC(Any) in module Main at In[10]:17 overwritten at In[16]:17.\n"
     ]
    },
    {
     "data": {
      "text/plain": [
       "RemoteChannel{Channel{jInv.InverseSolve.MisfitParam}}(9,1,255)"
      ]
     },
     "execution_count": 16,
     "metadata": {},
     "output_type": "execute_result"
    }
   ],
   "source": [
    "Ainv        = getMUMPSsolver()\n",
    "pForDC      = DivSigGradParam(Mdc, SourcesDC, ReceiversDC, [],spzeros(0,0), Ainv)\n",
    "\n",
    "gloc        = GlobalToLocal(Iact'*Mesh2Mesh,Mesh2Mesh'*sigback);\n",
    "WdDC          = 1./(mean(abs(vec(dobsDC)))/2+abs(dobsDC));\n",
    "@everywhere begin\n",
    "    function velToConductMod(v,mid,a,b)\n",
    "        d = (b-a)./2.0;\n",
    "        dinv = 10;\n",
    "        tt = dinv.*(mid - v);\n",
    "        t = (d.*(tanh(tt)+1) + a);\n",
    "        dt = -(dinv*d)*(sech(tt)).^2;\n",
    "        dt = (2.0-v./mid).*dt + (-1./mid).*t;\n",
    "        t = t.*(2.0-v./mid);\n",
    "        return vec(t),spdiagm(vec(dt))\n",
    "    end\n",
    "    modfunDC(m) = velToConductMod(m,3.0,0.1,1.0);\n",
    "end\n",
    "pMisDC = initRemoteChannel(getMisfitParam,workers()[end],pForDC,WdDC,dobsDC,SSDFun,modfunDC,gloc)\n"
   ]
  },
  {
   "cell_type": "markdown",
   "metadata": {},
   "source": [
    "### Combining both models\n",
    "\n",
    "Having both problems set up, running a multiphysics inversion is as simple as stacking both misfit parameters into a long vector. "
   ]
  },
  {
   "cell_type": "code",
   "execution_count": 17,
   "metadata": {
    "collapsed": false
   },
   "outputs": [],
   "source": [
    "pMis = [pMisEik; pMisDC]  # combines both problem types;"
   ]
  },
  {
   "cell_type": "markdown",
   "metadata": {},
   "source": [
    "## Configure the Inversion\n",
    "\n",
    "In this block we set parameters for the inversion. In jInv we need to select a regularizer, its parameter, and configer the optimization problem by setting upper and lower bounds, maximum number of iterations for the outer and inner loop, a preconditioner, and a model. "
   ]
  },
  {
   "cell_type": "code",
   "execution_count": 18,
   "metadata": {
    "collapsed": false
   },
   "outputs": [
    {
     "name": "stderr",
     "output_type": "stream",
     "text": [
      "WARNING: Method definition regfun(Any, Any, Any) in module Main at In[12]:4 overwritten at In[18]:4.\n"
     ]
    }
   ],
   "source": [
    "# configure regularization\n",
    "alpha\t   \t= 1e-15;\n",
    "regparams   = [1.0,1.0,1.0,1e-6];\n",
    "regfun(m,mref,Minv) = wdiffusionReg(m,mref,Minv,Iact=Iact,C = regparams)\n",
    "\n",
    "# configuer optimization\n",
    "HesPrec     = getSSORRegularizationPreconditioner(1.0,1e-15,200);\n",
    "cgit       \t= 8; \n",
    "pcgTol     \t= 1e-1;\n",
    "maxIter    \t= 10;\n",
    "minUpdate \t= 1e-2;\n",
    "boundsLow  \t= 1.45*ones(size(Iact,2));\n",
    "boundsHigh \t= 4.5 *ones(size(Iact,2));\n",
    "maxStep\t\t= 0.1*maximum(boundsHigh);\n",
    "\n",
    "pInv = getInverseParam(Minv,identityMod,regfun,alpha,vec(mref),\n",
    "         boundsLow,boundsHigh,maxStep=maxStep,pcgMaxIter=cgit,pcgTol=pcgTol,\n",
    "         minUpdate=minUpdate, maxIter = maxIter,HesPrec=HesPrec);"
   ]
  },
  {
   "cell_type": "markdown",
   "metadata": {},
   "source": [
    "## Choose Method for Plotting/Storing Intermediate Results\n",
    "\n",
    "Some inversions might take a long time, so it's useful to store or visualize intermediate results. This way, we can cancel the inversion if, e.g., the regularization parameter is too large/small. The optimization algorithms in jInv provide the current model, the current data and some other info we can use. In this case we just plot the true sigma and the estimated sigma for comparison\n",
    "\n",
    "*Remark : * interactive plotting does not work in IJulia notebooks. However, if you copy the code to a `.jl` file you will be able to see the plots being updated through the iteration."
   ]
  },
  {
   "cell_type": "code",
   "execution_count": 19,
   "metadata": {
    "collapsed": false
   },
   "outputs": [
    {
     "name": "stderr",
     "output_type": "stream",
     "text": [
      "WARNING: Method definition plotIntermediates(Any, Any, Any, Any, Any) in module Main at In[13]:4 overwritten at In[19]:4.\n"
     ]
    },
    {
     "data": {
      "text/plain": [
       "plotIntermediates (generic function with 1 method)"
      ]
     },
     "execution_count": 19,
     "metadata": {},
     "output_type": "execute_result"
    }
   ],
   "source": [
    "plotting = true\n",
    "function plotIntermediates(mc,Dc,iter,pInv,pMis)\n",
    "    \n",
    "\tfigure(13)\n",
    "\tclf()\n",
    "\tsubplot(1,2,1)\n",
    "    viewOrthoSlices2D(mref,Minv)\n",
    "    title(\"starting guess for slowness\")\n",
    "\tcolorbar()\n",
    "\tsubplot(1,2,2)\n",
    "    viewOrthoSlices2D(mc,Minv)\n",
    "    title(\"slowness at iter=$(iter)\")\n",
    "\tcolorbar()\n",
    "end"
   ]
  },
  {
   "cell_type": "code",
   "execution_count": null,
   "metadata": {
    "collapsed": false
   },
   "outputs": [],
   "source": [
    "mc,Dc,flag,His = projGNCG(copy(mref[:]),pInv,pMis,dumpResults = plotIntermediates);"
   ]
  },
  {
   "cell_type": "code",
   "execution_count": 14,
   "metadata": {
    "collapsed": false
   },
   "outputs": [
    {
     "ename": "LoadError",
     "evalue": "UndefVarError: His not defined",
     "output_type": "error",
     "traceback": [
      "UndefVarError: His not defined",
      ""
     ]
    }
   ],
   "source": [
    "subplot(1,3,1)\n",
    "semilogy(His.F,\"-o\")\n",
    "xlabel(\"PGNCG iterations\")\n",
    "title(\"misfit\")\n",
    "\n",
    "subplot(1,3,2)\n",
    "semilogy(His.Rc,\"-o\")\n",
    "xlabel(\"PGNCG iterations\")\n",
    "title(\"regularizer\");\n",
    "\n",
    "subplot(1,3,3)\n",
    "semilogy(His.dJ,\"-o\")\n",
    "xlabel(\"PGNCG iterations\")\n",
    "title(\"norm of proj grad\");"
   ]
  },
  {
   "cell_type": "code",
   "execution_count": 26,
   "metadata": {
    "collapsed": false
   },
   "outputs": [],
   "source": [
    "# fetch Eikonal data\n",
    "DcEik = zeros(size(dobsEik,1),size(dobsEik,2),length(His.Dc))\n",
    "for iter=1:length(His.Dc)\n",
    "    for k=1:length(His.Dc[iter])-1\n",
    "        Ik       = SourcesSubInd[k];\n",
    "        DcEik[:,Ik,iter] = fetch(His.Dc[iter][k])\n",
    "    end\n",
    "end\n",
    "\n",
    "DcDC = zeros(size(dobsDC,1),size(dobsDC,2),length(His.Dc))\n",
    "for iter=1:length(His.Dc)\n",
    "    DcDC[:,:,iter] = fetch(His.Dc[iter][end]);\n",
    "end\n",
    "\n",
    "His.Dc = [];\n",
    "matwrite(\"exJointEikonalDCRes.mat\",Dict(\"mc\"=>mc,\"His\"=>His,\"DcEik\"=>DcEik,\"DcDC\"=>DcDC))"
   ]
  },
  {
   "cell_type": "code",
   "execution_count": null,
   "metadata": {
    "collapsed": true
   },
   "outputs": [],
   "source": []
  }
 ],
 "metadata": {
  "kernelspec": {
   "display_name": "Julia 0.5.2-pre",
   "language": "julia",
   "name": "julia-0.5"
  },
  "language_info": {
   "file_extension": ".jl",
   "mimetype": "application/julia",
   "name": "julia",
   "version": "0.5.3"
  },
  "latex_envs": {
   "bibliofile": "biblio.bib",
   "cite_by": "apalike",
   "current_citInitial": 1,
   "eqLabelWithNumbers": true,
   "eqNumInitial": 0
  }
 },
 "nbformat": 4,
 "nbformat_minor": 0
}
